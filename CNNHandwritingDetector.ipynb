{
 "cells": [
  {
   "cell_type": "markdown",
   "id": "b58fda5b",
   "metadata": {},
   "source": [
    "## Handwriting detection using a Convolutional Neural Network\n",
    "<p>Convolutional Neural Networks are a type of Deep Learning Algorithm that take the image as an input and learn the various features of the image through filters. This allows them to learn the important objects present in the image, allowing them to discern one image from the other. One important feature of Convolutional Neural Network that sets it apart from other Machine Learning algorithms is its ability to pre-process the data by itself. </p>\n",
    "\n",
    "<p>For this project I will be using: numpy, tensorflow, keras, & pillow libraries.</p>\n",
    "\n",
    "<p>I will be using the MNIST Dataset. It contains 60,000 training images of handwritten digits from zero to nine and 10,000 images for testing. The MNIST dataset has 10 different classes. The handwritten digits images are represented as a 28×28 matrix where each cell contains grayscale pixel value. The data set can be downloaded from here: <a href=\"http://yann.lecun.com/exdb/mnist/\">MNIST Dataset</a></p>\n",
    "\n",
    "<p></p>\n",
    "\n",
    "\n",
    "<p><img src=\"https://miro.medium.com/max/1838/1*uAeANQIOQPqWZnnuH-VEyw.jpeg\" alt=\"Convolutional Neural Network\"></p>\n",
    "\n",
    "\n",
    "\n",
    "## 1. Import the libraries and load data\n",
    "\n",
    "<p>OpenCV, Pandas, and numpy are the Python packages that are necessary for this project.</p>\n",
    "\n",
    "\n",
    "\n",
    "\n"
   ]
  },
  {
   "cell_type": "code",
   "execution_count": null,
   "id": "71b8979e-4df2-43f9-8bef-faa67cca9124",
   "metadata": {},
   "outputs": [],
   "source": [
    "# import libraries\n",
    "import keras\n",
    "from keras.datasets import mnist\n",
    "from keras.models import Sequential\n",
    "from keras.layers import Dense, Dropout, Flatten\n",
    "from keras.layers import Conv2D, MaxPooling2D\n",
    "from keras import backend as K\n",
    "\n",
    "# the data, split between train and test sets\n",
    "(x_train, y_train), (x_test, y_test) = mnist.load_data()\n",
    "print(x_train.shape, y_train.shape)"
   ]
  },
  {
   "cell_type": "markdown",
   "id": "4b95b59f",
   "metadata": {},
   "source": [
    "## 2. Preprocess the data\n",
    "<p>The image data cannot be directly loaded into the mode, so a few operations and processing needs to be done. The dimension of the training data is (60000,28,28). The CNN model will require one more dimension so it's required to reshape the matrix to (60000,28,28,<b>1</b>).</p>\n",
    "\n"
   ]
  },
  {
   "cell_type": "code",
   "execution_count": null,
   "id": "daf857fa-874c-43ba-8bdd-56616e45c9ef",
   "metadata": {},
   "outputs": [],
   "source": [
    "x_train = x_train.reshape(x_train.shape[0], 28, 28, 1)\n",
    "x_test = x_test.reshape(x_test.shape[0], 28, 28, 1)\n",
    "input_shape = (28, 28, 1)\n",
    "\n",
    "# convert class vectors to binary class matrices\n",
    "y_train = keras.utils.to_categorical(y_train, num_classes)\n",
    "y_test = keras.utils.to_categorical(y_test, num_classes)\n",
    "x_train = x_train.astype('float32')\n",
    "x_test = x_test.astype('float32')\n",
    "x_train /= 255\n",
    "x_test /= 255\n",
    "print('x_train shape:', x_train.shape)\n",
    "print(x_train.shape[0], 'train samples')\n",
    "print(x_test.shape[0], 'test samples')"
   ]
  },
  {
   "cell_type": "markdown",
   "id": "22ee9e7c",
   "metadata": {},
   "source": [
    "## 3. Create the model\n",
    "<p> A CNN model generally consists of convolutional and pooling layers. It works better for data that are represented as grid structures, this is the reason why CNN works well for image classification problems. The dropout layer is used to deactivate some of the neurons and while training, it reduces offer fitting of the model. Then I can compile the model with the Adadelta optimizer.</p>"
   ]
  },
  {
   "cell_type": "code",
   "execution_count": null,
   "id": "4a08d48b-7578-4e15-9dff-98a89779f550",
   "metadata": {},
   "outputs": [],
   "source": [
    "batch_size = 128\n",
    "num_classes = 10\n",
    "epochs = 10\n",
    "model = Sequential()\n",
    "model.add(Conv2D(32, kernel_size=(3, 3),activation='relu',input_shape=input_shape))\n",
    "model.add(Conv2D(64, (3, 3), activation='relu'))\n",
    "model.add(MaxPooling2D(pool_size=(2, 2)))\n",
    "model.add(Dropout(0.25))\n",
    "model.add(Flatten())\n",
    "model.add(Dense(256, activation='relu'))\n",
    "model.add(Dropout(0.5))\n",
    "model.add(Dense(num_classes, activation='softmax'))\n",
    "model.compile(loss=keras.losses.categorical_crossentropy,optimizer=keras.optimizers.Adadelta(),metrics=['accuracy'])"
   ]
  },
  {
   "cell_type": "markdown",
   "id": "31f6f374",
   "metadata": {},
   "source": [
    "## 4. Train the model\n",
    "<p>The <code>model.fit()</code> function of Keras will start the training of the model. It takes the training data, validation data, epochs, and batch size.\n",
    "\n",
    "It takes some time to train the model. After training, save the weights and model definition in the ‘mnist.h5’ file.</p>\n",
    "  \n"
   ]
  },
  {
   "cell_type": "code",
   "execution_count": null,
   "id": "5fc86be6-2f06-4a4d-8c39-0b10ae36bc02",
   "metadata": {},
   "outputs": [],
   "source": [
    "hist = model.fit(x_train, y_train,batch_size=batch_size,epochs=epochs,verbose=1,validation_data=(x_test, y_test))\n",
    "print(\"The model has successfully trained\")\n",
    "model.save('mnist.h5')\n",
    "print(\"Saving the model as mnist.h5\")\n",
    "  "
   ]
  },
  {
   "cell_type": "markdown",
   "id": "7253f4dd-1fbe-484b-bcca-12a003eb4e92",
   "metadata": {},
   "source": [
    "## 5. Evaluate the model\n",
    "<p>The 10,000 images in our dataset will be used to evaluate the accuracy of the model. The testing data was not involved in the training of the data therefore, it is new data for our model. The MNIST dataset is well balanced so it can provided around 99% accuracy.</p>"
   ]
  },
  {
   "cell_type": "code",
   "execution_count": null,
   "id": "e9df4859-2307-40e4-9b9e-0099f117c5a1",
   "metadata": {},
   "outputs": [],
   "source": [
    "score = model.evaluate(x_test, y_test, verbose=0)\n",
    "print('Test loss:', score[0])\n",
    "print('Test accuracy:', score[1])"
   ]
  },
  {
   "cell_type": "markdown",
   "id": "7f7dd726-f799-47d4-8278-ec2a0a959e26",
   "metadata": {},
   "source": [
    "## 6. Create GUI to predict digits\n",
    "<p>It's required to build an interactive window to draw digits on canvas and with a button, so we can recognise the digit. The Tkinter library comes in the Python standard library. I have created a function <code>predict_digit()</code> that takes the image as input and then uses the trained model to predict the digit.</p>\n",
    "\n",
    "<p>An App class is then created which is responsible for building the GUI for the app. A canvas is created where users can draw and it is captured by the mouse event, then a button which will trigger the <code>predict_digit()</code> function and display the results.</p>"
   ]
  },
  {
   "cell_type": "code",
   "execution_count": null,
   "id": "b944f79d-9590-413e-a968-35f6df45b098",
   "metadata": {},
   "outputs": [],
   "source": [
    "from keras.models import load_model\n",
    "from tkinter import *\n",
    "import tkinter as tk\n",
    "import win32gui\n",
    "from PIL import ImageGrab, Image\n",
    "import numpy as np\n",
    "model = load_model('mnist.h5')\n",
    "def predict_digit(img):\n",
    "    # resize image to 28x28 pixels\n",
    "    img = img.resize((28,28))\n",
    "    # convert rgb to grayscale\n",
    "    img = img.convert('L')\n",
    "    img = np.array(img)\n",
    "    # reshaping to support our model input and normalizing\n",
    "    img = img.reshape(1,28,28,1)\n",
    "    img = img/255.0\n",
    "    # predicting the class\n",
    "    res = model.predict([img])[0]\n",
    "    return np.argmax(res), max(res)\n",
    "class App(tk.Tk):\n",
    "    def __init__(self):\n",
    "        tk.Tk.__init__(self)\n",
    "        self.x = self.y = 0\n",
    "        # creating elements\n",
    "        self.canvas = tk.Canvas(self, width=300, height=300, bg = \"white\", cursor=\"cross\")\n",
    "        self.label = tk.Label(self, text=\"Thinking..\", font=(\"Helvetica\", 48))\n",
    "        self.classify_btn = tk.Button(self, text = \"Recognise\", command =         self.classify_handwriting) \n",
    "        self.button_clear = tk.Button(self, text = \"Clear\", command = self.clear_all)\n",
    "        # grid structure\n",
    "        self.canvas.grid(row=0, column=0, pady=2, sticky=W, )\n",
    "        self.label.grid(row=0, column=1,pady=2, padx=2)\n",
    "        self.classify_btn.grid(row=1, column=1, pady=2, padx=2)\n",
    "        self.button_clear.grid(row=1, column=0, pady=2)\n",
    "        # self.canvas.bind(\"<Motion>\", self.start_pos)\n",
    "        self.canvas.bind(\"<B1-Motion>\", self.draw_lines)\n",
    "    def clear_all(self):\n",
    "        self.canvas.delete(\"all\")\n",
    "    def classify_handwriting(self):\n",
    "        HWND = self.canvas.winfo_id() # get the handle of the canvas\n",
    "        rect = win32gui.GetWindowRect(HWND) # get the coordinate of the canvas\n",
    "        im = ImageGrab.grab(rect)\n",
    "        digit, acc = predict_digit(im)\n",
    "        self.label.configure(text= str(digit)+', '+ str(int(acc*100))+'%')\n",
    "    def draw_lines(self, event):\n",
    "        self.x = event.x\n",
    "        self.y = event.y\n",
    "        r=8\n",
    "        self.canvas.create_oval(self.x-r, self.y-r, self.x + r, self.y + r, fill='black')\n",
    "app = App()\n",
    "mainloop()"
   ]
  },
  {
   "cell_type": "markdown",
   "id": "b7c274da-f366-4d13-96b5-b9c8651f4bb2",
   "metadata": {},
   "source": [
    "## 7. Preview\n",
    "\n",
    "<img src=\"2.png\"><img src=\"5.png\"><img src=\"6.png\">\n",
    "\n"
   ]
  }
 ],
 "metadata": {
  "kernelspec": {
   "display_name": "Python 3 (ipykernel)",
   "language": "python",
   "name": "python3"
  },
  "language_info": {
   "codemirror_mode": {
    "name": "ipython",
    "version": 3
   },
   "file_extension": ".py",
   "mimetype": "text/x-python",
   "name": "python",
   "nbconvert_exporter": "python",
   "pygments_lexer": "ipython3",
   "version": "3.8.10"
  }
 },
 "nbformat": 4,
 "nbformat_minor": 5
}
